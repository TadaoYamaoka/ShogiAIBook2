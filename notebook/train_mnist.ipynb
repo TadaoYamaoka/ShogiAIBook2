{
  "nbformat": 4,
  "nbformat_minor": 0,
  "metadata": {
    "colab": {
      "name": "train_mnist.ipynb",
      "provenance": [],
      "include_colab_link": true
    },
    "kernelspec": {
      "name": "python3",
      "display_name": "Python 3"
    },
    "language_info": {
      "name": "python"
    },
    "accelerator": "GPU",
    "widgets": {
      "application/vnd.jupyter.widget-state+json": {
        "f4ca6aa176394dea9503fa51ed3034d2": {
          "model_module": "@jupyter-widgets/controls",
          "model_name": "HBoxModel",
          "model_module_version": "1.5.0",
          "state": {
            "_view_name": "HBoxView",
            "_dom_classes": [],
            "_model_name": "HBoxModel",
            "_view_module": "@jupyter-widgets/controls",
            "_model_module_version": "1.5.0",
            "_view_count": null,
            "_view_module_version": "1.5.0",
            "box_style": "",
            "layout": "IPY_MODEL_a10d7e143b824e4d9e4045c050bcef3f",
            "_model_module": "@jupyter-widgets/controls",
            "children": [
              "IPY_MODEL_cdfab02d0ab74776aeb04da409dd5d44",
              "IPY_MODEL_00afb834cfe24288b3e236e9b09b526c",
              "IPY_MODEL_74d5c2dbeedb4e5d86afe96fa7317449"
            ]
          }
        },
        "a10d7e143b824e4d9e4045c050bcef3f": {
          "model_module": "@jupyter-widgets/base",
          "model_name": "LayoutModel",
          "model_module_version": "1.2.0",
          "state": {
            "_view_name": "LayoutView",
            "grid_template_rows": null,
            "right": null,
            "justify_content": null,
            "_view_module": "@jupyter-widgets/base",
            "overflow": null,
            "_model_module_version": "1.2.0",
            "_view_count": null,
            "flex_flow": null,
            "width": null,
            "min_width": null,
            "border": null,
            "align_items": null,
            "bottom": null,
            "_model_module": "@jupyter-widgets/base",
            "top": null,
            "grid_column": null,
            "overflow_y": null,
            "overflow_x": null,
            "grid_auto_flow": null,
            "grid_area": null,
            "grid_template_columns": null,
            "flex": null,
            "_model_name": "LayoutModel",
            "justify_items": null,
            "grid_row": null,
            "max_height": null,
            "align_content": null,
            "visibility": null,
            "align_self": null,
            "height": null,
            "min_height": null,
            "padding": null,
            "grid_auto_rows": null,
            "grid_gap": null,
            "max_width": null,
            "order": null,
            "_view_module_version": "1.2.0",
            "grid_template_areas": null,
            "object_position": null,
            "object_fit": null,
            "grid_auto_columns": null,
            "margin": null,
            "display": null,
            "left": null
          }
        },
        "cdfab02d0ab74776aeb04da409dd5d44": {
          "model_module": "@jupyter-widgets/controls",
          "model_name": "HTMLModel",
          "model_module_version": "1.5.0",
          "state": {
            "_view_name": "HTMLView",
            "style": "IPY_MODEL_043ac249f45c401a91a5d9b309a0a061",
            "_dom_classes": [],
            "description": "",
            "_model_name": "HTMLModel",
            "placeholder": "​",
            "_view_module": "@jupyter-widgets/controls",
            "_model_module_version": "1.5.0",
            "value": "",
            "_view_count": null,
            "_view_module_version": "1.5.0",
            "description_tooltip": null,
            "_model_module": "@jupyter-widgets/controls",
            "layout": "IPY_MODEL_a9370ccd7edc49e79ef32c47903c61bf"
          }
        },
        "00afb834cfe24288b3e236e9b09b526c": {
          "model_module": "@jupyter-widgets/controls",
          "model_name": "FloatProgressModel",
          "model_module_version": "1.5.0",
          "state": {
            "_view_name": "ProgressView",
            "style": "IPY_MODEL_e1ded9a6059343c6af34f3a788331fd1",
            "_dom_classes": [],
            "description": "",
            "_model_name": "FloatProgressModel",
            "bar_style": "success",
            "max": 9912422,
            "_view_module": "@jupyter-widgets/controls",
            "_model_module_version": "1.5.0",
            "value": 9912422,
            "_view_count": null,
            "_view_module_version": "1.5.0",
            "orientation": "horizontal",
            "min": 0,
            "description_tooltip": null,
            "_model_module": "@jupyter-widgets/controls",
            "layout": "IPY_MODEL_47c225193c5b4a81ac1119eee0317096"
          }
        },
        "74d5c2dbeedb4e5d86afe96fa7317449": {
          "model_module": "@jupyter-widgets/controls",
          "model_name": "HTMLModel",
          "model_module_version": "1.5.0",
          "state": {
            "_view_name": "HTMLView",
            "style": "IPY_MODEL_f7da9797435c4a4c96a03d179e2d621b",
            "_dom_classes": [],
            "description": "",
            "_model_name": "HTMLModel",
            "placeholder": "​",
            "_view_module": "@jupyter-widgets/controls",
            "_model_module_version": "1.5.0",
            "value": " 9913344/? [00:00&lt;00:00, 50157679.68it/s]",
            "_view_count": null,
            "_view_module_version": "1.5.0",
            "description_tooltip": null,
            "_model_module": "@jupyter-widgets/controls",
            "layout": "IPY_MODEL_de0c3c398c5441158f50e56fcabcffc9"
          }
        },
        "043ac249f45c401a91a5d9b309a0a061": {
          "model_module": "@jupyter-widgets/controls",
          "model_name": "DescriptionStyleModel",
          "model_module_version": "1.5.0",
          "state": {
            "_view_name": "StyleView",
            "_model_name": "DescriptionStyleModel",
            "description_width": "",
            "_view_module": "@jupyter-widgets/base",
            "_model_module_version": "1.5.0",
            "_view_count": null,
            "_view_module_version": "1.2.0",
            "_model_module": "@jupyter-widgets/controls"
          }
        },
        "a9370ccd7edc49e79ef32c47903c61bf": {
          "model_module": "@jupyter-widgets/base",
          "model_name": "LayoutModel",
          "model_module_version": "1.2.0",
          "state": {
            "_view_name": "LayoutView",
            "grid_template_rows": null,
            "right": null,
            "justify_content": null,
            "_view_module": "@jupyter-widgets/base",
            "overflow": null,
            "_model_module_version": "1.2.0",
            "_view_count": null,
            "flex_flow": null,
            "width": null,
            "min_width": null,
            "border": null,
            "align_items": null,
            "bottom": null,
            "_model_module": "@jupyter-widgets/base",
            "top": null,
            "grid_column": null,
            "overflow_y": null,
            "overflow_x": null,
            "grid_auto_flow": null,
            "grid_area": null,
            "grid_template_columns": null,
            "flex": null,
            "_model_name": "LayoutModel",
            "justify_items": null,
            "grid_row": null,
            "max_height": null,
            "align_content": null,
            "visibility": null,
            "align_self": null,
            "height": null,
            "min_height": null,
            "padding": null,
            "grid_auto_rows": null,
            "grid_gap": null,
            "max_width": null,
            "order": null,
            "_view_module_version": "1.2.0",
            "grid_template_areas": null,
            "object_position": null,
            "object_fit": null,
            "grid_auto_columns": null,
            "margin": null,
            "display": null,
            "left": null
          }
        },
        "e1ded9a6059343c6af34f3a788331fd1": {
          "model_module": "@jupyter-widgets/controls",
          "model_name": "ProgressStyleModel",
          "model_module_version": "1.5.0",
          "state": {
            "_view_name": "StyleView",
            "_model_name": "ProgressStyleModel",
            "description_width": "",
            "_view_module": "@jupyter-widgets/base",
            "_model_module_version": "1.5.0",
            "_view_count": null,
            "_view_module_version": "1.2.0",
            "bar_color": null,
            "_model_module": "@jupyter-widgets/controls"
          }
        },
        "47c225193c5b4a81ac1119eee0317096": {
          "model_module": "@jupyter-widgets/base",
          "model_name": "LayoutModel",
          "model_module_version": "1.2.0",
          "state": {
            "_view_name": "LayoutView",
            "grid_template_rows": null,
            "right": null,
            "justify_content": null,
            "_view_module": "@jupyter-widgets/base",
            "overflow": null,
            "_model_module_version": "1.2.0",
            "_view_count": null,
            "flex_flow": null,
            "width": null,
            "min_width": null,
            "border": null,
            "align_items": null,
            "bottom": null,
            "_model_module": "@jupyter-widgets/base",
            "top": null,
            "grid_column": null,
            "overflow_y": null,
            "overflow_x": null,
            "grid_auto_flow": null,
            "grid_area": null,
            "grid_template_columns": null,
            "flex": null,
            "_model_name": "LayoutModel",
            "justify_items": null,
            "grid_row": null,
            "max_height": null,
            "align_content": null,
            "visibility": null,
            "align_self": null,
            "height": null,
            "min_height": null,
            "padding": null,
            "grid_auto_rows": null,
            "grid_gap": null,
            "max_width": null,
            "order": null,
            "_view_module_version": "1.2.0",
            "grid_template_areas": null,
            "object_position": null,
            "object_fit": null,
            "grid_auto_columns": null,
            "margin": null,
            "display": null,
            "left": null
          }
        },
        "f7da9797435c4a4c96a03d179e2d621b": {
          "model_module": "@jupyter-widgets/controls",
          "model_name": "DescriptionStyleModel",
          "model_module_version": "1.5.0",
          "state": {
            "_view_name": "StyleView",
            "_model_name": "DescriptionStyleModel",
            "description_width": "",
            "_view_module": "@jupyter-widgets/base",
            "_model_module_version": "1.5.0",
            "_view_count": null,
            "_view_module_version": "1.2.0",
            "_model_module": "@jupyter-widgets/controls"
          }
        },
        "de0c3c398c5441158f50e56fcabcffc9": {
          "model_module": "@jupyter-widgets/base",
          "model_name": "LayoutModel",
          "model_module_version": "1.2.0",
          "state": {
            "_view_name": "LayoutView",
            "grid_template_rows": null,
            "right": null,
            "justify_content": null,
            "_view_module": "@jupyter-widgets/base",
            "overflow": null,
            "_model_module_version": "1.2.0",
            "_view_count": null,
            "flex_flow": null,
            "width": null,
            "min_width": null,
            "border": null,
            "align_items": null,
            "bottom": null,
            "_model_module": "@jupyter-widgets/base",
            "top": null,
            "grid_column": null,
            "overflow_y": null,
            "overflow_x": null,
            "grid_auto_flow": null,
            "grid_area": null,
            "grid_template_columns": null,
            "flex": null,
            "_model_name": "LayoutModel",
            "justify_items": null,
            "grid_row": null,
            "max_height": null,
            "align_content": null,
            "visibility": null,
            "align_self": null,
            "height": null,
            "min_height": null,
            "padding": null,
            "grid_auto_rows": null,
            "grid_gap": null,
            "max_width": null,
            "order": null,
            "_view_module_version": "1.2.0",
            "grid_template_areas": null,
            "object_position": null,
            "object_fit": null,
            "grid_auto_columns": null,
            "margin": null,
            "display": null,
            "left": null
          }
        }
      }
    }
  },
  "cells": [
    {
      "cell_type": "markdown",
      "metadata": {
        "id": "view-in-github",
        "colab_type": "text"
      },
      "source": [
        "<a href=\"https://colab.research.google.com/github/TadaoYamaoka/ShogiAIBook2/blob/main/notebook/train_mnist.ipynb\" target=\"_parent\"><img src=\"https://colab.research.google.com/assets/colab-badge.svg\" alt=\"Open In Colab\"/></a>"
      ]
    },
    {
      "cell_type": "markdown",
      "metadata": {
        "id": "ddtIpzQupmiR"
      },
      "source": [
        "# ディープラーニングフレームワーク"
      ]
    },
    {
      "cell_type": "markdown",
      "metadata": {
        "id": "sYDLQAkerXwI"
      },
      "source": [
        "## ランタイムのタイプの確認\n",
        "メニューの「ランタイム」－「ランタイムのタイプを変更」から、 「ハードウェア アクセラレータ」が「GPU」になっていることを確認する。"
      ]
    },
    {
      "cell_type": "markdown",
      "metadata": {
        "id": "RJAB028DrdBo"
      },
      "source": [
        "## 割り当てられたGPUとCUDAバージョンの確認"
      ]
    },
    {
      "cell_type": "code",
      "metadata": {
        "colab": {
          "base_uri": "https://localhost:8080/"
        },
        "id": "ZKlDSAHCrg9_",
        "outputId": "af2a808b-88e2-4c90-f99b-247c51b0766b"
      },
      "source": [
        "!nvidia-smi"
      ],
      "execution_count": 1,
      "outputs": [
        {
          "output_type": "stream",
          "name": "stdout",
          "text": [
            "Sat Oct  9 06:19:24 2021       \n",
            "+-----------------------------------------------------------------------------+\n",
            "| NVIDIA-SMI 470.74       Driver Version: 460.32.03    CUDA Version: 11.2     |\n",
            "|-------------------------------+----------------------+----------------------+\n",
            "| GPU  Name        Persistence-M| Bus-Id        Disp.A | Volatile Uncorr. ECC |\n",
            "| Fan  Temp  Perf  Pwr:Usage/Cap|         Memory-Usage | GPU-Util  Compute M. |\n",
            "|                               |                      |               MIG M. |\n",
            "|===============================+======================+======================|\n",
            "|   0  Tesla K80           Off  | 00000000:00:04.0 Off |                    0 |\n",
            "| N/A   35C    P8    27W / 149W |      0MiB / 11441MiB |      0%      Default |\n",
            "|                               |                      |                  N/A |\n",
            "+-------------------------------+----------------------+----------------------+\n",
            "                                                                               \n",
            "+-----------------------------------------------------------------------------+\n",
            "| Processes:                                                                  |\n",
            "|  GPU   GI   CI        PID   Type   Process name                  GPU Memory |\n",
            "|        ID   ID                                                   Usage      |\n",
            "|=============================================================================|\n",
            "|  No running processes found                                                 |\n",
            "+-----------------------------------------------------------------------------+\n"
          ]
        }
      ]
    },
    {
      "cell_type": "markdown",
      "metadata": {
        "id": "7T4oBCq_pt4f"
      },
      "source": [
        "## PyTorchの基本"
      ]
    },
    {
      "cell_type": "markdown",
      "metadata": {
        "id": "XA8QDrB5pvlP"
      },
      "source": [
        "### インポート"
      ]
    },
    {
      "cell_type": "code",
      "metadata": {
        "id": "dQ2omBcAAyM-"
      },
      "source": [
        "import torch\n",
        "from torch import nn\n",
        "import torch.nn.functional as F\n",
        "from torch.utils.data import DataLoader\n",
        "from torchvision import datasets, transforms"
      ],
      "execution_count": 2,
      "outputs": []
    },
    {
      "cell_type": "markdown",
      "metadata": {
        "id": "ijY5aYj9p1SQ"
      },
      "source": [
        "### ハイパーパラメータ"
      ]
    },
    {
      "cell_type": "code",
      "metadata": {
        "id": "4Idv_FErA3KV"
      },
      "source": [
        "# ハイパーパラメータ\n",
        "learning_rate = 0.001\n",
        "batch_size = 64\n",
        "epochs = 5"
      ],
      "execution_count": 3,
      "outputs": []
    },
    {
      "cell_type": "markdown",
      "metadata": {
        "id": "UXnlhEqeqZkI"
      },
      "source": [
        "### データセット"
      ]
    },
    {
      "cell_type": "code",
      "metadata": {
        "colab": {
          "base_uri": "https://localhost:8080/",
          "height": 471,
          "referenced_widgets": [
            "f4ca6aa176394dea9503fa51ed3034d2",
            "a10d7e143b824e4d9e4045c050bcef3f",
            "cdfab02d0ab74776aeb04da409dd5d44",
            "00afb834cfe24288b3e236e9b09b526c",
            "74d5c2dbeedb4e5d86afe96fa7317449",
            "043ac249f45c401a91a5d9b309a0a061",
            "a9370ccd7edc49e79ef32c47903c61bf",
            "e1ded9a6059343c6af34f3a788331fd1",
            "47c225193c5b4a81ac1119eee0317096",
            "f7da9797435c4a4c96a03d179e2d621b",
            "de0c3c398c5441158f50e56fcabcffc9"
          ]
        },
        "id": "7a-pbG8ABC2V",
        "outputId": "e48127a9-0898-4c19-bcc4-d86c6382ee08"
      },
      "source": [
        "# データセット\n",
        "transform=transforms.Compose([\n",
        "    transforms.ToTensor(),\n",
        "    transforms.Normalize((0.1307,), (0.3081,))\n",
        "    ])\n",
        "training_data = datasets.MNIST(\n",
        "    'data', train=True, download=True, transform=transform)\n",
        "test_data = datasets.MNIST(\n",
        "    'data', train=False, transform=transform)"
      ],
      "execution_count": 4,
      "outputs": [
        {
          "output_type": "stream",
          "name": "stdout",
          "text": [
            "Downloading http://yann.lecun.com/exdb/mnist/train-images-idx3-ubyte.gz\n",
            "Downloading http://yann.lecun.com/exdb/mnist/train-images-idx3-ubyte.gz to data/MNIST/raw/train-images-idx3-ubyte.gz\n"
          ]
        },
        {
          "output_type": "display_data",
          "data": {
            "application/vnd.jupyter.widget-view+json": {
              "model_id": "f4ca6aa176394dea9503fa51ed3034d2",
              "version_minor": 0,
              "version_major": 2
            },
            "text/plain": [
              "  0%|          | 0/9912422 [00:00<?, ?it/s]"
            ]
          },
          "metadata": {}
        },
        {
          "output_type": "stream",
          "name": "stdout",
          "text": [
            "Extracting data/MNIST/raw/train-images-idx3-ubyte.gz to data/MNIST/raw\n",
            "\n",
            "Downloading http://yann.lecun.com/exdb/mnist/train-labels-idx1-ubyte.gz\n",
            "Downloading http://yann.lecun.com/exdb/mnist/train-labels-idx1-ubyte.gz to data/MNIST/raw/train-labels-idx1-ubyte.gz\n"
          ]
        },
        {
          "output_type": "display_data",
          "data": {
            "application/vnd.jupyter.widget-view+json": {
              "model_id": "ac2b33a36a164679b41a084ad342a204",
              "version_minor": 0,
              "version_major": 2
            },
            "text/plain": [
              "  0%|          | 0/28881 [00:00<?, ?it/s]"
            ]
          },
          "metadata": {}
        },
        {
          "output_type": "stream",
          "name": "stdout",
          "text": [
            "Extracting data/MNIST/raw/train-labels-idx1-ubyte.gz to data/MNIST/raw\n",
            "\n",
            "Downloading http://yann.lecun.com/exdb/mnist/t10k-images-idx3-ubyte.gz\n",
            "Downloading http://yann.lecun.com/exdb/mnist/t10k-images-idx3-ubyte.gz to data/MNIST/raw/t10k-images-idx3-ubyte.gz\n"
          ]
        },
        {
          "output_type": "display_data",
          "data": {
            "application/vnd.jupyter.widget-view+json": {
              "model_id": "1b13e887a4a545b89914c4e878a27f59",
              "version_minor": 0,
              "version_major": 2
            },
            "text/plain": [
              "  0%|          | 0/1648877 [00:00<?, ?it/s]"
            ]
          },
          "metadata": {}
        },
        {
          "output_type": "stream",
          "name": "stdout",
          "text": [
            "Extracting data/MNIST/raw/t10k-images-idx3-ubyte.gz to data/MNIST/raw\n",
            "\n",
            "Downloading http://yann.lecun.com/exdb/mnist/t10k-labels-idx1-ubyte.gz\n",
            "Downloading http://yann.lecun.com/exdb/mnist/t10k-labels-idx1-ubyte.gz to data/MNIST/raw/t10k-labels-idx1-ubyte.gz\n"
          ]
        },
        {
          "output_type": "display_data",
          "data": {
            "application/vnd.jupyter.widget-view+json": {
              "model_id": "7f1c1c0fa80542c0812867b7c7c6bb03",
              "version_minor": 0,
              "version_major": 2
            },
            "text/plain": [
              "  0%|          | 0/4542 [00:00<?, ?it/s]"
            ]
          },
          "metadata": {}
        },
        {
          "output_type": "stream",
          "name": "stdout",
          "text": [
            "Extracting data/MNIST/raw/t10k-labels-idx1-ubyte.gz to data/MNIST/raw\n",
            "\n"
          ]
        },
        {
          "output_type": "stream",
          "name": "stderr",
          "text": [
            "/usr/local/lib/python3.7/dist-packages/torchvision/datasets/mnist.py:498: UserWarning: The given NumPy array is not writeable, and PyTorch does not support non-writeable tensors. This means you can write to the underlying (supposedly non-writeable) NumPy array using the tensor. You may want to copy the array to protect its data or make it writeable before converting it to a tensor. This type of warning will be suppressed for the rest of this program. (Triggered internally at  /pytorch/torch/csrc/utils/tensor_numpy.cpp:180.)\n",
            "  return torch.from_numpy(parsed.astype(m[2], copy=False)).view(*s)\n"
          ]
        }
      ]
    },
    {
      "cell_type": "markdown",
      "metadata": {
        "id": "CvFNoS0RqfKo"
      },
      "source": [
        "### データローダ"
      ]
    },
    {
      "cell_type": "code",
      "metadata": {
        "id": "fkZIhVNpqeRo"
      },
      "source": [
        "# データローダ\n",
        "train_dataloader = DataLoader(training_data, batch_size, shuffle=True)\n",
        "test_dataloader = DataLoader(test_data, batch_size)"
      ],
      "execution_count": 5,
      "outputs": []
    },
    {
      "cell_type": "markdown",
      "metadata": {
        "id": "lV0yRO_Mqh5o"
      },
      "source": [
        "### デバイス"
      ]
    },
    {
      "cell_type": "code",
      "metadata": {
        "id": "y6LM4W2-A5kN"
      },
      "source": [
        "# デバイス\n",
        "use_cuda = True\n",
        "device = torch.device(\"cuda\" if use_cuda else \"cpu\")"
      ],
      "execution_count": 6,
      "outputs": []
    },
    {
      "cell_type": "markdown",
      "metadata": {
        "id": "PlQ8GVxKqkAH"
      },
      "source": [
        "### ニューラルネットワークの定義"
      ]
    },
    {
      "cell_type": "code",
      "metadata": {
        "id": "peMlgVsUA7Uk"
      },
      "source": [
        "# ニューラルネットワーク\n",
        "class Net(nn.Module):\n",
        "    def __init__(self):\n",
        "        super(Net, self).__init__()\n",
        "        self.conv1 = nn.Conv2d(1, 32, kernel_size=3, stride=1, padding=0)\n",
        "        self.conv2 = nn.Conv2d(32, 64, kernel_size=3, stride=1, padding=0)\n",
        "        self.fc1 = nn.Linear(9216, 128)\n",
        "        self.fc2 = nn.Linear(128, 10)\n",
        "\n",
        "    def forward(self, x):\n",
        "        x = self.conv1(x)\n",
        "        x = F.relu(x)\n",
        "        x = self.conv2(x)\n",
        "        x = F.relu(x)\n",
        "        x = F.max_pool2d(x, 2)\n",
        "        x = torch.flatten(x, 1)\n",
        "        x = self.fc1(x)\n",
        "        x = F.relu(x)\n",
        "        output = self.fc2(x)\n",
        "        return output"
      ],
      "execution_count": 7,
      "outputs": []
    },
    {
      "cell_type": "markdown",
      "metadata": {
        "id": "HzPasN6kqxq4"
      },
      "source": [
        "### モデルのインスタンス化とデバイスへの転送"
      ]
    },
    {
      "cell_type": "code",
      "metadata": {
        "colab": {
          "base_uri": "https://localhost:8080/"
        },
        "id": "FEQj4Px3qt54",
        "outputId": "03849fc5-dfde-489f-c772-bd45d91cb9a5"
      },
      "source": [
        "model = Net()\n",
        "model.to(device)"
      ],
      "execution_count": 8,
      "outputs": [
        {
          "output_type": "execute_result",
          "data": {
            "text/plain": [
              "Net(\n",
              "  (conv1): Conv2d(1, 32, kernel_size=(3, 3), stride=(1, 1))\n",
              "  (conv2): Conv2d(32, 64, kernel_size=(3, 3), stride=(1, 1))\n",
              "  (fc1): Linear(in_features=9216, out_features=128, bias=True)\n",
              "  (fc2): Linear(in_features=128, out_features=10, bias=True)\n",
              ")"
            ]
          },
          "metadata": {},
          "execution_count": 8
        }
      ]
    },
    {
      "cell_type": "markdown",
      "metadata": {
        "id": "ApSMBhlCq0sY"
      },
      "source": [
        "### 損失関数"
      ]
    },
    {
      "cell_type": "code",
      "metadata": {
        "id": "wh2b3LFgA_iV"
      },
      "source": [
        "# 損失関数\n",
        "loss_fn = nn.CrossEntropyLoss()"
      ],
      "execution_count": 9,
      "outputs": []
    },
    {
      "cell_type": "markdown",
      "metadata": {
        "id": "i7rrPh06q21w"
      },
      "source": [
        "### オプティマイザ"
      ]
    },
    {
      "cell_type": "code",
      "metadata": {
        "id": "pMFCun9gBBZs"
      },
      "source": [
        "# オプティマイザ\n",
        "optimizer = torch.optim.SGD(model.parameters(), lr=learning_rate)"
      ],
      "execution_count": 10,
      "outputs": []
    },
    {
      "cell_type": "markdown",
      "metadata": {
        "id": "PTyzqzejq4ZQ"
      },
      "source": [
        "### 訓練ループ"
      ]
    },
    {
      "cell_type": "code",
      "metadata": {
        "colab": {
          "base_uri": "https://localhost:8080/"
        },
        "id": "h6eN1JKEBFKt",
        "outputId": "732aa6ae-b88c-4971-fc30-4fb3d4d6f3c3"
      },
      "source": [
        "# 指定エポック数だけ繰り返す\n",
        "for t in range(epochs):\n",
        "    # 訓練ループ\n",
        "    model.train()\n",
        "    for batch_idx, (data, target) in enumerate(train_dataloader):\n",
        "        data, target = data.to(device), target.to(device)\n",
        "\n",
        "        # 順伝播\n",
        "        output = model(data)\n",
        "        # 損失計算\n",
        "        loss = loss_fn(output, target)\n",
        "        \n",
        "        # 誤差逆伝播\n",
        "        optimizer.zero_grad()\n",
        "        loss.backward()\n",
        "        optimizer.step()\n",
        "\n",
        "        # 一定間隔ごとに訓練損失を表示\n",
        "        if (batch_idx + 1) % 100 == 0:\n",
        "            print('epoch: {}, steps: {}/{}, train loss: {:.6f}'.format(\n",
        "                t + 1,\n",
        "                batch_idx + 1, len(train_dataloader),\n",
        "                loss.item()\n",
        "                ))\n",
        "\n",
        "    # エポックの終わりにテストデータすべてを使用して評価する\n",
        "    model.eval()\n",
        "    test_loss = 0\n",
        "    correct = 0\n",
        "\n",
        "    with torch.no_grad():\n",
        "        for data, target in test_dataloader:\n",
        "            data, target = data.to(device), target.to(device)\n",
        "            output = model(data)\n",
        "            test_loss += loss_fn(output, target).item()\n",
        "            correct += (output.argmax(1) == target).type(torch.float).sum().item()\n",
        "            \n",
        "    print('epoch: {}, test loss: {:.6f}, test accuracy: {:.6f}'.format(\n",
        "        t + 1,\n",
        "        test_loss / len(test_dataloader),\n",
        "        correct / len(test_dataloader.dataset)\n",
        "        ))"
      ],
      "execution_count": 11,
      "outputs": [
        {
          "output_type": "stream",
          "name": "stderr",
          "text": [
            "/usr/local/lib/python3.7/dist-packages/torch/nn/functional.py:718: UserWarning: Named tensors and all their associated APIs are an experimental feature and subject to change. Please do not use them for anything important until they are released as stable. (Triggered internally at  /pytorch/c10/core/TensorImpl.h:1156.)\n",
            "  return torch.max_pool2d(input, kernel_size, stride, padding, dilation, ceil_mode)\n"
          ]
        },
        {
          "output_type": "stream",
          "name": "stdout",
          "text": [
            "epoch: 1, steps: 100/938, train loss: 2.180173\n",
            "epoch: 1, steps: 200/938, train loss: 2.008420\n",
            "epoch: 1, steps: 300/938, train loss: 1.815221\n",
            "epoch: 1, steps: 400/938, train loss: 1.466214\n",
            "epoch: 1, steps: 500/938, train loss: 1.038826\n",
            "epoch: 1, steps: 600/938, train loss: 0.778160\n",
            "epoch: 1, steps: 700/938, train loss: 0.448386\n",
            "epoch: 1, steps: 800/938, train loss: 0.415816\n",
            "epoch: 1, steps: 900/938, train loss: 0.434661\n",
            "epoch: 1, test loss: 0.454982, test accuracy: 0.882700\n",
            "epoch: 2, steps: 100/938, train loss: 0.466654\n",
            "epoch: 2, steps: 200/938, train loss: 0.365907\n",
            "epoch: 2, steps: 300/938, train loss: 0.224890\n",
            "epoch: 2, steps: 400/938, train loss: 0.397490\n",
            "epoch: 2, steps: 500/938, train loss: 0.303189\n",
            "epoch: 2, steps: 600/938, train loss: 0.279154\n",
            "epoch: 2, steps: 700/938, train loss: 0.254070\n",
            "epoch: 2, steps: 800/938, train loss: 0.248317\n",
            "epoch: 2, steps: 900/938, train loss: 0.298204\n",
            "epoch: 2, test loss: 0.314080, test accuracy: 0.909600\n",
            "epoch: 3, steps: 100/938, train loss: 0.248781\n",
            "epoch: 3, steps: 200/938, train loss: 0.290280\n",
            "epoch: 3, steps: 300/938, train loss: 0.224144\n",
            "epoch: 3, steps: 400/938, train loss: 0.425971\n",
            "epoch: 3, steps: 500/938, train loss: 0.238793\n",
            "epoch: 3, steps: 600/938, train loss: 0.413495\n",
            "epoch: 3, steps: 700/938, train loss: 0.399475\n",
            "epoch: 3, steps: 800/938, train loss: 0.263945\n",
            "epoch: 3, steps: 900/938, train loss: 0.201497\n",
            "epoch: 3, test loss: 0.272629, test accuracy: 0.920800\n",
            "epoch: 4, steps: 100/938, train loss: 0.215595\n",
            "epoch: 4, steps: 200/938, train loss: 0.158205\n",
            "epoch: 4, steps: 300/938, train loss: 0.083297\n",
            "epoch: 4, steps: 400/938, train loss: 0.338074\n",
            "epoch: 4, steps: 500/938, train loss: 0.248860\n",
            "epoch: 4, steps: 600/938, train loss: 0.256766\n",
            "epoch: 4, steps: 700/938, train loss: 0.428867\n",
            "epoch: 4, steps: 800/938, train loss: 0.411104\n",
            "epoch: 4, steps: 900/938, train loss: 0.289701\n",
            "epoch: 4, test loss: 0.248148, test accuracy: 0.928700\n",
            "epoch: 5, steps: 100/938, train loss: 0.232751\n",
            "epoch: 5, steps: 200/938, train loss: 0.376996\n",
            "epoch: 5, steps: 300/938, train loss: 0.281208\n",
            "epoch: 5, steps: 400/938, train loss: 0.246745\n",
            "epoch: 5, steps: 500/938, train loss: 0.150766\n",
            "epoch: 5, steps: 600/938, train loss: 0.197756\n",
            "epoch: 5, steps: 700/938, train loss: 0.188282\n",
            "epoch: 5, steps: 800/938, train loss: 0.246600\n",
            "epoch: 5, steps: 900/938, train loss: 0.252483\n",
            "epoch: 5, test loss: 0.224935, test accuracy: 0.935300\n"
          ]
        }
      ]
    },
    {
      "cell_type": "markdown",
      "metadata": {
        "id": "kNB7NyEkuAXJ"
      },
      "source": [
        "### 推論"
      ]
    },
    {
      "cell_type": "code",
      "metadata": {
        "colab": {
          "base_uri": "https://localhost:8080/",
          "height": 282
        },
        "id": "I0cqeTjGy4dC",
        "outputId": "5b229658-d593-48f0-9964-7cbc4cdc7e73"
      },
      "source": [
        "import matplotlib.pyplot as plt\n",
        "data = test_data[0][0]\n",
        "plt.imshow(data.reshape((28, 28)), cmap='gray')"
      ],
      "execution_count": 58,
      "outputs": [
        {
          "output_type": "execute_result",
          "data": {
            "text/plain": [
              "<matplotlib.image.AxesImage at 0x7f7735a3d490>"
            ]
          },
          "metadata": {},
          "execution_count": 58
        },
        {
          "output_type": "display_data",
          "data": {
            "image/png": "[encoded data removed]",
            "text/plain": [
              "<Figure size 432x288 with 1 Axes>"
            ]
          },
          "metadata": {
            "needs_background": "light"
          }
        }
      ]
    },
    {
      "cell_type": "code",
      "metadata": {
        "colab": {
          "base_uri": "https://localhost:8080/"
        },
        "id": "8mohMn4Ty-ti",
        "outputId": "d87be6ec-9b10-41ff-a64f-b76555173113"
      },
      "source": [
        "test_data[0][1]"
      ],
      "execution_count": 59,
      "outputs": [
        {
          "output_type": "execute_result",
          "data": {
            "text/plain": [
              "7"
            ]
          },
          "metadata": {},
          "execution_count": 59
        }
      ]
    },
    {
      "cell_type": "code",
      "metadata": {
        "id": "woE0AHJ1uEjX"
      },
      "source": [
        "model.eval()\n",
        "with torch.no_grad():\n",
        "  x = data.unsqueeze(0).to(device)\n",
        "  logits = model(x)\n",
        "  pred = torch.softmax(logits, 1).squeeze().cpu()"
      ],
      "execution_count": 64,
      "outputs": []
    },
    {
      "cell_type": "code",
      "metadata": {
        "colab": {
          "base_uri": "https://localhost:8080/"
        },
        "id": "lh4UVW_ivFOZ",
        "outputId": "ccbbda64-cf0f-48fe-e03a-f728a0aadcb7"
      },
      "source": [
        "pred"
      ],
      "execution_count": 61,
      "outputs": [
        {
          "output_type": "execute_result",
          "data": {
            "text/plain": [
              "tensor([4.2510e-06, 3.3585e-09, 1.5709e-05, 5.1008e-04, 1.0449e-06, 9.5421e-06,\n",
              "        4.1619e-09, 9.9897e-01, 9.4623e-06, 4.8093e-04])"
            ]
          },
          "metadata": {},
          "execution_count": 61
        }
      ]
    },
    {
      "cell_type": "code",
      "metadata": {
        "colab": {
          "base_uri": "https://localhost:8080/",
          "height": 282
        },
        "id": "6Ivi5WWQwymB",
        "outputId": "f2beec32-22e5-4352-b4e2-28c7287b9356"
      },
      "source": [
        "plt.bar(range(10), pred)"
      ],
      "execution_count": 62,
      "outputs": [
        {
          "output_type": "execute_result",
          "data": {
            "text/plain": [
              "<BarContainer object of 10 artists>"
            ]
          },
          "metadata": {},
          "execution_count": 62
        },
        {
          "output_type": "display_data",
          "data": {
            "image/png": "[encoded data removed]",
            "text/plain": [
              "<Figure size 432x288 with 1 Axes>"
            ]
          },
          "metadata": {
            "needs_background": "light"
          }
        }
      ]
    }
  ]
}